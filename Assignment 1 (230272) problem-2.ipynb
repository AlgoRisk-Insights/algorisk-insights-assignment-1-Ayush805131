{
 "cells": [
  {
   "cell_type": "code",
   "execution_count": 23,
   "metadata": {},
   "outputs": [],
   "source": [
    "import yfinance as yf\n",
    "import pandas as  pd\n",
    "import math"
   ]
  },
  {
   "cell_type": "code",
   "execution_count": 24,
   "metadata": {},
   "outputs": [],
   "source": [
    "# ans(a) i would recommend stock which are  uncorrelated it would hedge our position if a particular sector is declining \n",
    "\n",
    "# ans(b)\n",
    "# using the correlation cofficient formula in function \n",
    "\n",
    "def corr(data1,data2):\n",
    "    n=249\n",
    "    a1=(data1.Close)*(data2.Close)\n",
    "    a1=a1.sum()    \n",
    "    a1=a1*n\n",
    "    a2=(data1.Close.sum())*(data2.Close.sum())\n",
    "    a3=n*(((data1.Close)*(data1.Close)).sum())-(data1.Close.sum())*(data1.Close.sum())\n",
    "    a4=n*(((data2.Close)*(data2.Close)).sum())-(data2.Close.sum())*(data2.Close.sum())\n",
    "    s=math.sqrt(a3*a4)\n",
    "    r=(a1-a2)/s\n",
    "    return r"
   ]
  },
  {
   "cell_type": "code",
   "execution_count": 25,
   "metadata": {},
   "outputs": [
    {
     "name": "stderr",
     "output_type": "stream",
     "text": [
      "[*********************100%%**********************]  1 of 1 completed"
     ]
    },
    {
     "name": "stderr",
     "output_type": "stream",
     "text": [
      "\n",
      "[*********************100%%**********************]  1 of 1 completed\n"
     ]
    }
   ],
   "source": [
    "stock1 = yf.download(\"HDFCBANK.NS\",start=\"2023-04-01\",end=\"2024-03-31\")\n",
    "stock2 = yf.download(\"ICICIBANK.NS\",start=\"2023-04-01\",end=\"2024-03-31\")"
   ]
  },
  {
   "cell_type": "code",
   "execution_count": 26,
   "metadata": {},
   "outputs": [
    {
     "name": "stdout",
     "output_type": "stream",
     "text": [
      "0.8381161955593986\n"
     ]
    }
   ],
   "source": [
    "correlation_coff1=corr(stock1,stock2)\n",
    "\n",
    "print(correlation_coff1)"
   ]
  },
  {
   "cell_type": "code",
   "execution_count": 27,
   "metadata": {},
   "outputs": [],
   "source": [
    "#  HDFC and ICICI are both leaders in  banking sector as the banking sector grows they both grow hence are positive correlated\n",
    "# ratio may be -ve when the stock are not of same sector,or their working tenures of companies may be diff"
   ]
  },
  {
   "cell_type": "code",
   "execution_count": 28,
   "metadata": {},
   "outputs": [
    {
     "name": "stderr",
     "output_type": "stream",
     "text": [
      "[*********************100%%**********************]  1 of 1 completed\n",
      "[*********************100%%**********************]  1 of 1 completed\n"
     ]
    }
   ],
   "source": [
    "stock3 = yf.download(\"HDFCBANK.NS\",start=\"2023-04-01\",end=\"2024-03-31\")\n",
    "stock4 = yf.download(\"YESBANK.NS\",start=\"2023-04-01\",end=\"2024-03-31\")\n"
   ]
  },
  {
   "cell_type": "code",
   "execution_count": 29,
   "metadata": {},
   "outputs": [
    {
     "name": "stdout",
     "output_type": "stream",
     "text": [
      "0.4315670579143612\n"
     ]
    }
   ],
   "source": [
    "correlation_coff2=corr(stock3,stock4)\n",
    "print(correlation_coff2)"
   ]
  },
  {
   "cell_type": "code",
   "execution_count": null,
   "metadata": {},
   "outputs": [],
   "source": []
  },
  {
   "cell_type": "code",
   "execution_count": null,
   "metadata": {},
   "outputs": [],
   "source": []
  }
 ],
 "metadata": {
  "kernelspec": {
   "display_name": "Python 3",
   "language": "python",
   "name": "python3"
  },
  "language_info": {
   "codemirror_mode": {
    "name": "ipython",
    "version": 3
   },
   "file_extension": ".py",
   "mimetype": "text/x-python",
   "name": "python",
   "nbconvert_exporter": "python",
   "pygments_lexer": "ipython3",
   "version": "3.12.2"
  }
 },
 "nbformat": 4,
 "nbformat_minor": 2
}
